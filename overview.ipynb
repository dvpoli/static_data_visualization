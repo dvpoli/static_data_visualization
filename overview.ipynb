{
 "cells": [
  {
   "cell_type": "code",
   "execution_count": 2,
   "metadata": {},
   "outputs": [],
   "source": [
    "import pandas as pd\n",
    "import numpy as np\n",
    "import matplotlib.pyplot as plt\n",
    "import math\n",
    "import seaborn as sns"
   ]
  },
  {
   "cell_type": "markdown",
   "metadata": {},
   "source": [
    "Reading data"
   ]
  },
  {
   "cell_type": "code",
   "execution_count": 3,
   "metadata": {},
   "outputs": [],
   "source": [
    "labels = np.array([\"Activity label\", \n",
    "                \"Category label\", \n",
    "                \"Living Area floor\", \n",
    "                \"Living Area table\", \n",
    "                \"Studying Area floor\",\n",
    "                \"Studying Area desk\",\n",
    "                \"Accelerometer X\",\n",
    "                \"Accelerometer Y\",\n",
    "                \"Accelerometer Z\",\n",
    "                \"Gyroscope X\",\n",
    "                \"Gyroscope Y\",\n",
    "                \"Gyroscope Z\"])"
   ]
  },
  {
   "cell_type": "code",
   "execution_count": 4,
   "metadata": {},
   "outputs": [],
   "source": [
    "p1l1_clean = pd.read_csv('p1l1_clean_cleaned.csv',names=labels)\n",
    "p1l1_cook = pd.read_csv('p1l1_cook_cleaned.csv',names=labels)\n",
    "p1l1_vac = pd.read_csv('p1l1_vac_cleaned.csv',names=labels)\n",
    "p1l1_work = pd.read_csv('p1l1_work_cleaned.csv',names=labels)\n"
   ]
  },
  {
   "cell_type": "code",
   "execution_count": null,
   "metadata": {},
   "outputs": [],
   "source": [
    "p1l2_clean = pd.read_csv('p1l2_clean_cleaned.csv',names=labels)\n",
    "p1l2_cook = pd.read_csv('p1l2_cook_cleaned.csv',names=labels)\n",
    "p1l2_vac = pd.read_csv('p1l2_vac_cleaned.csv',names=labels)\n",
    "p1l2_work = pd.read_csv('p1l2_work_cleaned.csv',names=labels)"
   ]
  },
  {
   "cell_type": "markdown",
   "metadata": {},
   "source": [
    "Time series plots"
   ]
  },
  {
   "cell_type": "code",
   "execution_count": 5,
   "metadata": {},
   "outputs": [],
   "source": [
    "def visualize_data(dataframe,title: str):\n",
    "    col_names = [\"Living Area floor\", \"Living Area table\", \"Studying Area floor\", \"Studying Area desk\"]\n",
    "\n",
    "    num_activities = len(np.array(dataframe['Activity label'].unique()))\n",
    "\n",
    "    fig, axes = plt.subplots(num_activities, len(col_names), figsize=(18, 4*num_activities), sharex=True, sharey=True)\n",
    "\n",
    "    for col_index, col_name in enumerate(col_names):\n",
    "        for activity_index, activity_label in enumerate(np.array(dataframe['Activity label'].unique())):\n",
    "            # print(f'My current column = {col_name}, and my current activity label = {activity_label}')\n",
    "\n",
    "            ax = axes[activity_index, col_index]\n",
    "            \n",
    "            \n",
    "            ax.plot(dataframe[col_name][(dataframe['Activity label'] == activity_label)])\n",
    "            \n",
    "            ax.set_title(f'Activity label: {activity_label} for {col_name}')\n",
    "            \n",
    "            ax.set_ylabel('Vibrations')\n",
    "            ax.set_xlabel('Time [s]')\n",
    "            \n",
    "            ax.grid(True)\n",
    "\n",
    "    plt.suptitle(f'Activity type: {title}', fontsize=20)\n",
    "\n",
    "    plt.tight_layout()\n",
    "    plt.savefig(f'fig_{title}.png', dpi=300, bbox_inches='tight')\n",
    "\n",
    "    plt.show()"
   ]
  },
  {
   "cell_type": "markdown",
   "metadata": {},
   "source": [
    "Creating time series in dataset:"
   ]
  },
  {
   "cell_type": "code",
   "execution_count": 6,
   "metadata": {},
   "outputs": [],
   "source": [
    "def time_series_data(dataframe):\n",
    "    sampling_rate = 235\n",
    "    dataframe = dataframe.copy()\n",
    "    dataframe = dataframe.set_index(dataframe.index/sampling_rate)\n",
    "    \n",
    "    return dataframe\n"
   ]
  },
  {
   "cell_type": "code",
   "execution_count": 7,
   "metadata": {},
   "outputs": [],
   "source": [
    "p1l1_clean_ts = time_series_data(p1l1_clean)\n",
    "p1l1_cook_ts = time_series_data(p1l1_cook)\n",
    "p1l1_vac_ts = time_series_data(p1l1_vac)\n",
    "p1l1_work_ts = time_series_data(p1l1_work)"
   ]
  },
  {
   "cell_type": "code",
   "execution_count": null,
   "metadata": {},
   "outputs": [],
   "source": [
    "visualize_data(p1l1_clean_ts,'cleaning')\n",
    "visualize_data(p1l1_cook_ts,'cooking')\n",
    "visualize_data(p1l1_vac_ts,'vaccuming')\n",
    "visualize_data(p1l1_work_ts,'working')\n"
   ]
  },
  {
   "cell_type": "markdown",
   "metadata": {},
   "source": [
    "3D plots:"
   ]
  },
  {
   "cell_type": "code",
   "execution_count": 7,
   "metadata": {},
   "outputs": [],
   "source": [
    "def plot_gyroscope_data_3d(df):\n",
    "    unique_activities = df['Activity label'].unique()\n",
    "\n",
    "    num_activities = len(unique_activities)\n",
    "    num_plots_per_column = 2\n",
    "    num_columns = min(2, math.ceil(num_activities / num_plots_per_column))\n",
    "\n",
    "    fig = plt.figure(figsize=(19, 10*num_columns))\n",
    "\n",
    "    for i, activity in enumerate(unique_activities):\n",
    "        activity_df = df[df['Activity label'] == activity]\n",
    "\n",
    "        col = i % num_columns\n",
    "        row = i // num_columns\n",
    "\n",
    "        ax = fig.add_subplot(num_columns, num_plots_per_column, i+1, projection='3d')\n",
    "\n",
    "        ax.scatter(activity_df['Gyroscope X'], activity_df['Gyroscope Y'], activity_df['Gyroscope Z'], label='Gyroscope XYZ', edgecolors='black')\n",
    "\n",
    "        ax.set_title(f'Gyroscope Data - {activity}')\n",
    "        ax.set_xlabel('Gyroscope X')\n",
    "        ax.set_ylabel('Gyroscope Y')\n",
    "        ax.set_zlabel('Gyroscope Z')\n",
    "        ax.legend()\n",
    "\n",
    "    plt.tight_layout()\n",
    "\n",
    "    plt.show()"
   ]
  },
  {
   "cell_type": "code",
   "execution_count": 8,
   "metadata": {},
   "outputs": [],
   "source": [
    "def plot_accelerometer_data_3d(df):\n",
    "    unique_activities = df['Activity label'].unique()\n",
    "\n",
    "    num_activities = len(unique_activities)\n",
    "    num_plots_per_column = 2\n",
    "    num_columns = min(2, math.ceil(num_activities / num_plots_per_column))\n",
    "\n",
    "    fig = plt.figure(figsize=(19, 10*num_columns))\n",
    "\n",
    "    for i, activity in enumerate(unique_activities):\n",
    "        activity_df = df[df['Activity label'] == activity]\n",
    "\n",
    "        col = i % num_columns\n",
    "        row = i // num_columns\n",
    "\n",
    "        ax = fig.add_subplot(num_columns, num_plots_per_column, i+1, projection='3d')\n",
    "\n",
    "        ax.scatter(activity_df['Accelerometer X'], activity_df['Accelerometer Y'], activity_df['Accelerometer Z'], label='Accelerometer XYZ', edgecolors='black')\n",
    "\n",
    "        ax.set_title(f'Accelerometer Data - {activity}')\n",
    "        ax.set_xlabel('Accelerometer X')\n",
    "        ax.set_ylabel('Accelerometer Y')\n",
    "        ax.set_zlabel('Accelerometer Z')\n",
    "        ax.legend()\n",
    "\n",
    "    plt.tight_layout()\n",
    "\n",
    "    plt.show()"
   ]
  },
  {
   "cell_type": "code",
   "execution_count": null,
   "metadata": {},
   "outputs": [],
   "source": [
    "plot_accelerometer_data_3d(p1l1_clean)"
   ]
  },
  {
   "cell_type": "code",
   "execution_count": 9,
   "metadata": {},
   "outputs": [],
   "source": [
    "keyboard_typing = p1l1_work[p1l1_work['Activity label'] == 1]\n",
    "using_mouse = p1l1_work[p1l1_work['Activity label'] == 2]\n",
    "handwriting = p1l1_work[p1l1_work['Activity label'] == 3]\n",
    "cutting_vegetables = p1l1_cook[p1l1_cook['Activity label'] == 4]\n",
    "stir_frying = p1l1_cook[p1l1_cook['Activity label'] == 5]\n",
    "wiping_table = p1l1_clean[p1l1_clean['Activity label'] == 6]\n",
    "sweeping_floor = p1l1_clean[p1l1_clean['Activity label'] == 7]\n",
    "vacuuming = p1l1_vac[p1l1_vac['Activity label'] == 8]\n",
    "open_close_drawer = p1l1_clean[p1l1_clean['Activity label'] == 9]\n",
    "dataframes_dict = {\n",
    "    'keyboard_typing': keyboard_typing,\n",
    "    'using_mouse': using_mouse,\n",
    "    'handwriting': handwriting,\n",
    "    'cutting_vegetables': cutting_vegetables,\n",
    "    'stir_frying': stir_frying,\n",
    "    'wiping_table': wiping_table,\n",
    "    'sweeping_floor': sweeping_floor,\n",
    "    'vacuuming': vacuuming,\n",
    "    'open_close_drawer': open_close_drawer\n",
    "}"
   ]
  },
  {
   "cell_type": "code",
   "execution_count": 10,
   "metadata": {},
   "outputs": [],
   "source": [
    "def create_std_dataframe(dataframes, labels):\n",
    "    result_df = pd.DataFrame(columns=labels[2:])\n",
    "    \n",
    "    for activity_name, df in dataframes.items():\n",
    "        sensor_data = df[labels[2:]]\n",
    "        \n",
    "        mean_values = sensor_data.std(axis=0)\n",
    "        \n",
    "        activity_mean_df = pd.DataFrame([mean_values.tolist()], columns=labels[2:])\n",
    "        activity_mean_df.insert(0, \"Activity label\", activity_name)\n",
    "        \n",
    "        result_df = pd.concat([result_df, activity_mean_df], ignore_index=True)\n",
    "    \n",
    "    return result_df"
   ]
  },
  {
   "cell_type": "code",
   "execution_count": null,
   "metadata": {},
   "outputs": [],
   "source": [
    "std_p1l1 = create_std_dataframe(dataframes_dict,labels)\n",
    "\n",
    "std_p1l1"
   ]
  },
  {
   "cell_type": "code",
   "execution_count": null,
   "metadata": {},
   "outputs": [],
   "source": [
    "def plot_correlation_heatmaps(df1, title):\n",
    "    corr_matrix1 = df1.corr(method='spearman').round(2)\n",
    "\n",
    "    sns.heatmap(corr_matrix1, annot=True, cmap='Spectral', fmt='.2f').set(title='Person 1: ' + title)\n",
    "\n",
    "    plt.tight_layout()\n",
    "    plt.savefig(f'{title}.png')\n",
    "    plt.show()\n",
    "dataframes = [keyboard_typing,\n",
    "            using_mouse,\n",
    "            handwriting,\n",
    "            cutting_vegetables,\n",
    "            stir_frying,\n",
    "            wiping_table,\n",
    "            sweeping_floor,\n",
    "            vacuuming,\n",
    "            open_close_drawer]\n",
    "\n",
    "activity_labels = [\"Keyboard Typing\", \n",
    "                    \"Using Mouse\", \n",
    "                    \"Handwriting\", \n",
    "                    \"Cutting Vegetables\", \n",
    "                    \"Stir-Frying\", \n",
    "                    \"Wiping Table\",\n",
    "                    \"Sweeping Floor\",\n",
    "                    \"Vacuuming\",\n",
    "                    \"Open Close Drawer\"]\n",
    "\n",
    "for i in range(len(dataframes)):\n",
    "    plot_correlation_heatmaps(dataframes[i], activity_labels[i])\n",
    "    print(\"\\n\")"
   ]
  }
 ],
 "metadata": {
  "kernelspec": {
   "display_name": "Python 3",
   "language": "python",
   "name": "python3"
  },
  "language_info": {
   "codemirror_mode": {
    "name": "ipython",
    "version": 3
   },
   "file_extension": ".py",
   "mimetype": "text/x-python",
   "name": "python",
   "nbconvert_exporter": "python",
   "pygments_lexer": "ipython3",
   "version": "3.9.13"
  }
 },
 "nbformat": 4,
 "nbformat_minor": 2
}
